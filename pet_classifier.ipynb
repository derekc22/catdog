{
 "cells": [
  {
   "cell_type": "code",
   "execution_count": null,
   "metadata": {},
   "outputs": [],
   "source": [
    "%run pet_classifier_modules.ipynb\n",
    "\n",
    "def pet_classifier(X):\n",
    "\n",
    "    cnnParamterPath = 'params/parametersCNN/'\n",
    "    mlpParamterPath = 'params/parametersMLP/'\n",
    "    \n",
    "    cnn = CNN(pretrained=True, training=False, device_type=deviceType, cnn_model_params=fetchCNNParametersFromFile(deviceType, cnnParamterPath), mlp_model_params=fetchMLPParametersFromFile(deviceType, mlpParamterPath))\n",
    "\n",
    "    predictionBatch = cnn.inference(X)\n",
    "\n",
    "    yguess = np.array([\"dog\" if pet >= 0.5 else \"cat\" for pet in predictionBatch[0].tolist()]).reshape(-1, 1)\n",
    "    print(f\"yguess = \\n{yguess}\")\n",
    "\n",
    "    return yguess, predictionBatch\n"
   ]
  }
 ],
 "metadata": {
  "kernelspec": {
   "display_name": "Python 3",
   "language": "python",
   "name": "python3"
  },
  "language_info": {
   "codemirror_mode": {
    "name": "ipython",
    "version": 3
   },
   "file_extension": ".py",
   "mimetype": "text/x-python",
   "name": "python",
   "nbconvert_exporter": "python",
   "pygments_lexer": "ipython3",
   "version": "3.10.4"
  }
 },
 "nbformat": 4,
 "nbformat_minor": 2
}
